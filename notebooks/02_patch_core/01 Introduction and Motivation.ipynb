{
 "cells": [
  {
   "cell_type": "markdown",
   "id": "c767385807ba23f9",
   "metadata": {},
   "source": [
    "# **Project: Anomaly Detection for AITEX Dataset**\n",
    "#### Track: PatchCore\n",
    "## `Notebook 1`: PatchCore: Introduction and Motivation\n",
    "**Author**: Oliver Grau \n",
    "\n",
    "**Date**: 27.03.2025  \n",
    "**Version**: 1.0\n",
    "\n",
    "## 📚 Table of Contents\n",
    "\n",
    "- [1. PatchCore: Introduction and Motivation](#1-patchcore-introduction-and-motivation)\n",
    "- [2. What is Anomaly Detection?](#2-what-is-anomaly-detection)\n",
    "- [3. When Does Reconstruction Fail?](#3-when-does-reconstruction-fail)\n",
    "- [4. PatchCore: A Different Approach](#4-patchcore-a-different-approach)\n",
    "- [5. Why It Works – The Intuition Behind PatchCore](#5-why-it-works--the-intuition-behind-patchcore)\n",
    "- [6. Project Scope and Goals](#6-project-scope-and-goals)\n",
    "\n",
    "---\n",
    "\n",
    "## 1. PatchCore: Introduction and Motivation\n",
    "\n",
    "PatchCore is a modern anomaly detection approach that avoids the limitations of traditional reconstruction-based methods like Autoencoders or Variational Autoencoders (VAEs). It relies on comparing deep features extracted from a pretrained CNN to a memory bank of normal patterns. This simple, elegant strategy allows robust detection of both subtle and unknown anomalies.\n",
    "\n",
    "\n",
    "## 2. What is Anomaly Detection?\n",
    "\n",
    "Anomaly Detection is the task of identifying patterns that deviate significantly from what is considered normal. In the context of image data, this often means detecting visual defects, irregular textures, or structural inconsistencies in images where most examples are “normal.”\n",
    "\n",
    "\n",
    "## 3. When Does Reconstruction Fail?\n",
    "\n",
    "Autoencoder-based methods aim to reconstruct inputs and assume anomalies will reconstruct poorly, resulting in higher reconstruction error. However, in practice:\n",
    "\n",
    "- 🌀 VAEs and AEs often generalize too well.\n",
    "- 🫥 They may reconstruct anomalies surprisingly well if the anomaly still fits into the learned \"style.\"\n",
    "- 🔬 Subtle deviations (like texture flaws in textile images) are easily overlooked if the model focuses on global structure.\n",
    "\n",
    "\n",
    "## 4. PatchCore: A Different Approach\n",
    "\n",
    "PatchCore breaks with the reconstruction paradigm.\n",
    "\n",
    "- It uses **pretrained CNNs** (like ResNet) to extract **feature maps** from normal images.\n",
    "- From these, it creates a **memory bank** of local patch embeddings as a reference of what \"normal\" looks like.\n",
    "- At inference time, each patch from a test image is compared to the memory bank using **distance metrics** (e.g., Euclidean).\n",
    "- Anomalies are detected as those patches **distant** from all known normal patches.\n",
    "\n",
    "There is no need to train a model. All learning is \"frozen\" in the pretrained CNN.\n",
    "\n",
    "\n",
    "## 5. Why It (Should Theoretically) Works – The Intuition Behind PatchCore\n",
    "\n",
    "- **Robust Features**: Pretrained networks offer strong representations without additional training.\n",
    "- **No Overfitting**: No training = no risk of generalizing over anomalies.\n",
    "- **Local Awareness**: Patches are treated independently, allowing fine-grained anomaly detection.\n",
    "- **Strong Generalization**: It can detect \"unknown unknowns\" because it’s based on dissimilarity, not supervised decision boundaries.\n",
    "\n",
    "---\n",
    "\n",
    "## 6. Project Scope and Goals\n",
    "\n",
    "This notebook is the second part of a practical, production-oriented notebook series. The goals of this project include:\n",
    "\n",
    "- ✅ Understand the limitations of reconstruction-based anomaly detection.\n",
    "- 🔍 Learn how PatchCore works and why it often outperforms Autoencoders in visual inspection tasks.\n",
    "- 🛠️ Implement PatchCore from scratch using PyTorch and Pretrained backbones. (ResNet, DiNOv2)\n",
    "- 🧪 Apply it to the AITEX dataset and compare the results with a previous Autoencoder-based approach."
   ]
  },
  {
   "cell_type": "markdown",
   "id": "94df3cfd",
   "metadata": {},
   "source": [
    "<p style=\"font-size: 0.8em; text-align: center;\">© 2025 Oliver Grau. Educational content for personal use only. See LICENSE.txt for full terms and conditions.</p>"
   ]
  }
 ],
 "metadata": {
  "kernelspec": {
   "display_name": "Python 3",
   "language": "python",
   "name": "python3"
  },
  "language_info": {
   "codemirror_mode": {
    "name": "ipython",
    "version": 2
   },
   "file_extension": ".py",
   "mimetype": "text/x-python",
   "name": "python",
   "nbconvert_exporter": "python",
   "pygments_lexer": "ipython2",
   "version": "2.7.6"
  }
 },
 "nbformat": 4,
 "nbformat_minor": 5
}
