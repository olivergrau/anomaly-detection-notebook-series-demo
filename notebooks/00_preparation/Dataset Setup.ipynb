{
 "cells": [
  {
   "cell_type": "markdown",
   "id": "dfd71cd6",
   "metadata": {},
   "source": [
    "# **Project: Anomaly Detection for AITEX Dataset**\n",
    "#### Track: Preparation\n",
    "## `Notebook`: Dataset Setup: AITEX Fabric Dataset (AFID)\n",
    "**Author**: Oliver Grau \n",
    "\n",
    "**Date**: 27.03.2025  \n",
    "**Version**: 1.0\n",
    "\n",
    "This notebook guides you through the dataset preparation steps for the AITEX Fabric Dataset (AFID), which is used throughout this anomaly detection series.\n",
    "\n",
    "## ⚠️ Legal Disclaimer\n",
    "\n",
    "The AITEX dataset is **not bundled** with this notebook series due to unclear or potentially restrictive licensing terms.\n",
    "\n",
    "- On [Kaggle](https://www.kaggle.com/datasets/veeranjaniraju/fabric-anomaly-detection), it is marked as **non-commercial use only**.\n",
    "- The official AITEX website does **not provide explicit licensing terms**.\n",
    "\n",
    "> **Therefore, this project uses the dataset solely for educational and research purposes.**  \n",
    "> If you plan to use this material in a commercial setting, **please verify the dataset license with AITEX** before proceeding.\n",
    "\n",
    "---\n",
    "\n",
    "## 📥 Step 1: Download the Dataset\n",
    "\n",
    "Please download the dataset manually from the official AITEX project page:\n",
    "\n",
    "👉 [https://www.aitex.es/afid/](https://www.aitex.es/afid/)\n",
    "\n",
    "Look for the dataset related to **AFID (Anomalous Fabric Inspection Database)**. You may need to register or request access.\n",
    "\n",
    "---\n",
    "\n",
    "## 📂 Step 2: Folder Structure\n",
    "\n",
    "After downloading and extracting the dataset, please organize it as follows under the `data/` directory:\n",
    "\n",
    "```\n",
    "project-root/\n",
    "└── data/\n",
    "    ├── Defect/\n",
    "    │   └── <image files with defects>\n",
    "    ├── NoDefect/\n",
    "    │   └── <image files without defects>\n",
    "    └── Mask/\n",
    "        └── <binary masks for each defect image>\n",
    "```\n",
    "\n",
    "This structure is expected by the notebook code. If you use symbolic links or mount data from another location, ensure the paths are consistent.\n",
    "\n",
    "---\n",
    "\n",
    "## 🧹 Step 3: (Optional) Patch Extraction\n",
    "\n",
    "The high-resolution images (4096x256) can be split into smaller patches (e.g., 256x256) for training. You can use the provided utility classes and scripts in the `data_preparation/` module or follow the patch creation steps later in this notebook.\n",
    "\n",
    "---\n",
    "\n",
    "## ✅ Ready to Go\n",
    "\n",
    "Once the dataset is extracted and structured correctly, you're ready to begin preprocessing and training.  \n",
    "Jump to the `01_vae/01_Introduction and Motivation.ipynb` to start preparing your training data."
   ]
  },
  {
   "cell_type": "markdown",
   "id": "93ecda06",
   "metadata": {},
   "source": [
    "<p style=\"font-size: 0.8em; text-align: center;\">© 2025 Oliver Grau. Educational content for personal use only. See LICENSE.txt for full terms and conditions.</p>"
   ]
  }
 ],
 "metadata": {
  "language_info": {
   "name": "python"
  }
 },
 "nbformat": 4,
 "nbformat_minor": 5
}
