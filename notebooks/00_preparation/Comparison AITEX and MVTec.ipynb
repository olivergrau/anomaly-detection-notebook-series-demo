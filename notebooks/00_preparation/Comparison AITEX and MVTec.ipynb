{
 "cells": [
  {
   "cell_type": "markdown",
   "id": "8f5e0c4b",
   "metadata": {},
   "source": [
    "# **Project: Anomaly Detection for AITEX Dataset**\n",
    "#### Track: Preparation\n",
    "## `Notebook`: AITEX compared to MVTec\n",
    "**Author**: Oliver Grau \n",
    "\n",
    "**Date**: 27.03.2025  \n",
    "**Version**: 1.0\n",
    "\n",
    "## 🧵 AITEX vs. 🧶 MVTec (Carpet)\n",
    "\n",
    "| Aspect                 | **MVTec (Carpet)**                         | **AITEX (Fabric)**                                 |\n",
    "|------------------------|--------------------------------------------|----------------------------------------------------|\n",
    "| **Anomaly size**       | Often large (20–80% of patch)              | Very small (thin lines, blobs, small burn-ins)     |\n",
    "| **Anomaly contrast**   | High - breaks weave, adds foreign patterns | Low - subtle continuity breaks or tone shifts      |\n",
    "| **Texture regularity** | Moderate                                   | Extremely high - fine-grained, tightly repeating   |\n",
    "| **Anomaly type**       | Often visible distortions                  | Often plausible variations (blackened or faint)    |\n",
    "| **Challenge level**    | ✅ Good for benchmarking basic AD methods  | ⚠️ Requires high sensitivity + texture awareness    |\n",
    "\n",
    "---\n",
    "\n",
    "## 🧠 Why This Matters\n",
    "\n",
    "### Most anomaly detection methods - especially VAEs and PatchCore - rely on:\n",
    "\n",
    "- **Clear visual separation** between normal and anomalous regions\n",
    "- **Semantic or large-scale disruptions** in the input\n",
    "- Feature extractors (e.g., ResNet) that can detect such differences in **feature space**\n",
    "\n",
    "On MVTec Carpet:\n",
    "> The anomalies are **big and obvious** → most methods can’t miss them.\n",
    "\n",
    "On AITEX:\n",
    "> The anomalies are **subtle, localized, and low contrast** → only models with high texture sensitivity (like DRAEM) succeed.\n",
    "\n",
    "---\n",
    "\n",
    "## ⚠️ Common Misinterpretation in Literature\n",
    "\n",
    "Many anomaly detection papers claim state-of-the-art performance on MVTec, but:\n",
    "- That does **not translate** to fabrics like AITEX.\n",
    "- Their results are often inflated by **high-contrast, spatially distinct defects**.\n",
    "- Models are not pushed to detect **within-class fine-grained deviations** which is exactly the challenge AITEX presents.\n",
    "\n",
    "---\n",
    "\n",
    "## ✅ Why This Justifies Your Deep Dive\n",
    "\n",
    "Your project is exposing the **next-level challenge** in anomaly detection:\n",
    "- Not just “can you detect that something is wrong?”\n",
    "- But **“can you tell when something is just slightly wrong and in a way that looks statistically normal?”**\n",
    "\n",
    "That’s a much harder task and AITEX is a perfect testbed for it."
   ]
  },
  {
   "cell_type": "markdown",
   "id": "c1c42fd0",
   "metadata": {},
   "source": [
    "<p style=\"font-size: 0.8em; text-align: center;\">© 2025 Oliver Grau. Educational content for personal use only. See LICENSE.txt for full terms and conditions.</p>"
   ]
  }
 ],
 "metadata": {
  "language_info": {
   "name": "python"
  }
 },
 "nbformat": 4,
 "nbformat_minor": 5
}
